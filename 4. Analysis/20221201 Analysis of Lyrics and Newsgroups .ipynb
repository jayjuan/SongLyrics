{
 "cells": [
  {
   "cell_type": "code",
   "execution_count": 1,
   "id": "d00ab28b",
   "metadata": {},
   "outputs": [
    {
     "data": {
      "text/html": [
       "<div>\n",
       "<style scoped>\n",
       "    .dataframe tbody tr th:only-of-type {\n",
       "        vertical-align: middle;\n",
       "    }\n",
       "\n",
       "    .dataframe tbody tr th {\n",
       "        vertical-align: top;\n",
       "    }\n",
       "\n",
       "    .dataframe thead th {\n",
       "        text-align: right;\n",
       "    }\n",
       "</style>\n",
       "<table border=\"1\" class=\"dataframe\">\n",
       "  <thead>\n",
       "    <tr style=\"text-align: right;\">\n",
       "      <th></th>\n",
       "      <th>Text</th>\n",
       "      <th>Target</th>\n",
       "    </tr>\n",
       "  </thead>\n",
       "  <tbody>\n",
       "    <tr>\n",
       "      <th>0</th>\n",
       "      <td>hold time feel break feel speak tear tri hold ...</td>\n",
       "      <td>1</td>\n",
       "    </tr>\n",
       "    <tr>\n",
       "      <th>1</th>\n",
       "      <td>drop rain fall grow night glow go astray come ...</td>\n",
       "      <td>1</td>\n",
       "    </tr>\n",
       "    <tr>\n",
       "      <th>2</th>\n",
       "      <td>sweetheart send letter secret feel better wake...</td>\n",
       "      <td>1</td>\n",
       "    </tr>\n",
       "    <tr>\n",
       "      <th>3</th>\n",
       "      <td>kiss lip want stroll charm mambo heaven arm ja...</td>\n",
       "      <td>1</td>\n",
       "    </tr>\n",
       "    <tr>\n",
       "      <th>4</th>\n",
       "      <td>till till matter know till dream live apart kn...</td>\n",
       "      <td>1</td>\n",
       "    </tr>\n",
       "  </tbody>\n",
       "</table>\n",
       "</div>"
      ],
      "text/plain": [
       "                                                Text  Target\n",
       "0  hold time feel break feel speak tear tri hold ...       1\n",
       "1  drop rain fall grow night glow go astray come ...       1\n",
       "2  sweetheart send letter secret feel better wake...       1\n",
       "3  kiss lip want stroll charm mambo heaven arm ja...       1\n",
       "4  till till matter know till dream live apart kn...       1"
      ]
     },
     "execution_count": 1,
     "metadata": {},
     "output_type": "execute_result"
    }
   ],
   "source": [
    "import pandas as pd\n",
    "df = pd.read_csv('20221202 Combined Lyrics and 20newsgroups.csv')\n",
    "df.head()"
   ]
  },
  {
   "cell_type": "code",
   "execution_count": 2,
   "id": "2e26dd62",
   "metadata": {},
   "outputs": [],
   "source": [
    "# MODEL\n",
    "from sklearn.feature_extraction.text import CountVectorizer, TfidfVectorizer\n",
    "from sklearn.feature_selection._univariate_selection import SelectKBest, chi2\n",
    "from sklearn.naive_bayes import MultinomialNB\n",
    "from sklearn import metrics\n",
    "\n",
    "vectorizer = TfidfVectorizer()\n",
    "X = vectorizer.fit_transform(df['Text'])\n",
    "Y = df['Target']\n",
    "# END MODEL"
   ]
  },
  {
   "cell_type": "code",
   "execution_count": 3,
   "id": "0c90f137",
   "metadata": {},
   "outputs": [],
   "source": [
    "# SPLIT INTO TEST AND TRAIN\n",
    "from sklearn.model_selection import train_test_split\n",
    "X_train, X_test, y_train, y_test = train_test_split(X, \n",
    "                                                    Y, \n",
    "                                                    test_size=0.3, \n",
    "                                                    random_state=42)\n",
    "# END SPLIT"
   ]
  },
  {
   "cell_type": "code",
   "execution_count": 5,
   "id": "97a27553",
   "metadata": {
    "scrolled": false
   },
   "outputs": [
    {
     "name": "stdout",
     "output_type": "stream",
     "text": [
      "accuracy: 1.000\n",
      "[[5645    0]\n",
      " [   4 8515]]\n",
      "              precision    recall  f1-score   support\n",
      "\n",
      "       Lyric       1.00      1.00      1.00      5645\n",
      "20newsgroups       1.00      1.00      1.00      8519\n",
      "\n",
      "    accuracy                           1.00     14164\n",
      "   macro avg       1.00      1.00      1.00     14164\n",
      "weighted avg       1.00      1.00      1.00     14164\n",
      "\n"
     ]
    }
   ],
   "source": [
    "# FIT AND EVALUATE MODEL\n",
    "from sklearn.neighbors._classification import KNeighborsClassifier\n",
    "from sklearn.svm._classes import LinearSVC\n",
    "\n",
    "ch2 = SelectKBest(chi2, k=1000)\n",
    "X_train = ch2.fit_transform(X_train, y_train)\n",
    "X_test = ch2.transform(X_test)\n",
    "\n",
    "clf = MultinomialNB()\n",
    "# clf = LinearSVC()\n",
    "# clf = KNeighborsClassifier()\n",
    "clf.fit(X_train, y_train)\n",
    "y_pred = clf.predict(X_test)\n",
    "print(\"accuracy: %0.3f\" % metrics.accuracy_score(y_test, y_pred))\n",
    "print(metrics.confusion_matrix(y_test, y_pred))\n",
    "print(metrics.classification_report(y_test, y_pred, target_names=['Lyric', '20newsgroups']))\n",
    "# END EVALUATE"
   ]
  },
  {
   "cell_type": "code",
   "execution_count": 7,
   "id": "bb94a886",
   "metadata": {},
   "outputs": [
    {
     "name": "stdout",
     "output_type": "stream",
     "text": [
      "accuracy: 0.999\n",
      "[[5637    8]\n",
      " [   4 8515]]\n",
      "              precision    recall  f1-score   support\n",
      "\n",
      "       Lyric       1.00      1.00      1.00      5645\n",
      "20newsgroups       1.00      1.00      1.00      8519\n",
      "\n",
      "    accuracy                           1.00     14164\n",
      "   macro avg       1.00      1.00      1.00     14164\n",
      "weighted avg       1.00      1.00      1.00     14164\n",
      "\n"
     ]
    }
   ],
   "source": [
    "# FIT AND EVALUATE MODEL\n",
    "from sklearn.neighbors._classification import KNeighborsClassifier\n",
    "from sklearn.svm._classes import LinearSVC\n",
    "\n",
    "ch2 = SelectKBest(chi2, k=1000)\n",
    "X_train = ch2.fit_transform(X_train, y_train)\n",
    "X_test = ch2.transform(X_test)\n",
    "\n",
    "# clf = MultinomialNB()\n",
    "clf = LinearSVC()\n",
    "# clf = KNeighborsClassifier()\n",
    "clf.fit(X_train, y_train)\n",
    "y_pred = clf.predict(X_test)\n",
    "print(\"accuracy: %0.3f\" % metrics.accuracy_score(y_test, y_pred))\n",
    "print(metrics.confusion_matrix(y_test, y_pred))\n",
    "print(metrics.classification_report(y_test, y_pred, target_names=['Lyric', '20newsgroups']))\n",
    "# END EVALUATE"
   ]
  },
  {
   "cell_type": "code",
   "execution_count": 6,
   "id": "e364ff53",
   "metadata": {},
   "outputs": [
    {
     "name": "stdout",
     "output_type": "stream",
     "text": [
      "accuracy: 0.865\n",
      "[[3762 1883]\n",
      " [  23 8496]]\n",
      "              precision    recall  f1-score   support\n",
      "\n",
      "       Lyric       0.99      0.67      0.80      5645\n",
      "20newsgroups       0.82      1.00      0.90      8519\n",
      "\n",
      "    accuracy                           0.87     14164\n",
      "   macro avg       0.91      0.83      0.85     14164\n",
      "weighted avg       0.89      0.87      0.86     14164\n",
      "\n"
     ]
    }
   ],
   "source": [
    "# FIT AND EVALUATE MODEL\n",
    "from sklearn.neighbors._classification import KNeighborsClassifier\n",
    "from sklearn.svm._classes import LinearSVC\n",
    "\n",
    "ch2 = SelectKBest(chi2, k=1000)\n",
    "X_train = ch2.fit_transform(X_train, y_train)\n",
    "X_test = ch2.transform(X_test)\n",
    "\n",
    "# clf = MultinomialNB()\n",
    "# clf = LinearSVC()\n",
    "clf = KNeighborsClassifier()\n",
    "clf.fit(X_train, y_train)\n",
    "y_pred = clf.predict(X_test)\n",
    "print(\"accuracy: %0.3f\" % metrics.accuracy_score(y_test, y_pred))\n",
    "print(metrics.confusion_matrix(y_test, y_pred))\n",
    "print(metrics.classification_report(y_test, y_pred, target_names=['Lyric', '20newsgroups']))\n",
    "# END EVALUATE"
   ]
  }
 ],
 "metadata": {
  "kernelspec": {
   "display_name": "Python 3 (ipykernel)",
   "language": "python",
   "name": "python3"
  },
  "language_info": {
   "codemirror_mode": {
    "name": "ipython",
    "version": 3
   },
   "file_extension": ".py",
   "mimetype": "text/x-python",
   "name": "python",
   "nbconvert_exporter": "python",
   "pygments_lexer": "ipython3",
   "version": "3.9.12"
  }
 },
 "nbformat": 4,
 "nbformat_minor": 5
}
