{
 "cells": [
  {
   "cell_type": "code",
   "execution_count": 2,
   "id": "d7f871a0",
   "metadata": {},
   "outputs": [],
   "source": [
    "import pandas as pd\n",
    "data = pd.read_csv('tcc_ceds_music.csv')"
   ]
  },
  {
   "cell_type": "code",
   "execution_count": 12,
   "id": "a1a24d73",
   "metadata": {
    "scrolled": true
   },
   "outputs": [
    {
     "name": "stdout",
     "output_type": "stream",
     "text": [
      "hold time feel break feel untrue convince speak voice tear try hold hurt try forgive okay play break string feel heart want feel tell real truth hurt lie worse anymore little turn dust play house ruin run leave save like chase train late late tear try hold hurt try forgive okay play break string feel heart want feel tell real truth hurt lie worse anymore little run leave save like chase train know late late play break string feel heart want feel tell real truth hurt lie worse anymore little know little hold time feel\n",
      "\n",
      "['hold', 'time', 'feel', 'break', 'feel', 'untrue', 'convince', 'speak', 'voice', 'tear', 'try', 'hold', 'hurt', 'try', 'forgive', 'okay', 'play', 'break', 'string', 'feel', 'heart', 'want', 'feel', 'tell', 'real', 'truth', 'hurt', 'lie', 'worse', 'anymore', 'little', 'turn', 'dust', 'play', 'house', 'ruin', 'run', 'leave', 'save', 'like', 'chase', 'train', 'late', 'late', 'tear', 'try', 'hold', 'hurt', 'try', 'forgive', 'okay', 'play', 'break', 'string', 'feel', 'heart', 'want', 'feel', 'tell', 'real', 'truth', 'hurt', 'lie', 'worse', 'anymore', 'little', 'run', 'leave', 'save', 'like', 'chase', 'train', 'know', 'late', 'late', 'play', 'break', 'string', 'feel', 'heart', 'want', 'feel', 'tell', 'real', 'truth', 'hurt', 'lie', 'worse', 'anymore', 'little', 'know', 'little', 'hold', 'time', 'feel']\n"
     ]
    }
   ],
   "source": [
    "first_lyric = data['lyrics'][0]\n",
    "\n",
    "print(first_lyric, end='\\n\\n')\n",
    "\n",
    "from nltk.tokenize import word_tokenize\n",
    "token = word_tokenize(first_lyric)\n",
    "\n",
    "print(token)"
   ]
  },
  {
   "cell_type": "markdown",
   "id": "529d4157",
   "metadata": {},
   "source": [
    "## Preproces the text data"
   ]
  },
  {
   "cell_type": "markdown",
   "id": "a5894d6f",
   "metadata": {},
   "source": [
    "#### Script to make lyrics into a list\n",
    "#### ONLY RUN ONCE"
   ]
  },
  {
   "cell_type": "code",
   "execution_count": 33,
   "id": "7e8fee84",
   "metadata": {},
   "outputs": [],
   "source": [
    "# with open('lyrics_in_list.txt', 'w', encoding='utf-8') as f:\n",
    "#     for text in df['lyrics']:\n",
    "#         f.write(text)\n",
    "#         f.write('\\n')"
   ]
  },
  {
   "cell_type": "markdown",
   "id": "bc12d6df",
   "metadata": {},
   "source": [
    "#### Read the created file"
   ]
  },
  {
   "cell_type": "code",
   "execution_count": 36,
   "id": "a928ce5f",
   "metadata": {},
   "outputs": [
    {
     "data": {
      "text/plain": [
       "'C:\\\\Users\\\\jjuan\\\\Documents\\\\work\\\\WORK_4\\\\KD34103 PERLOMBONGAN TEKS\\\\20222711 SongLyrics - Text Mining\\\\2. Prepared Data'"
      ]
     },
     "execution_count": 36,
     "metadata": {},
     "output_type": "execute_result"
    }
   ],
   "source": [
    "import os\n",
    "os.getcwd()\n",
    "# with open('lyrics_in_list.txt', 'r', encoding='utf-8') as fr:\n",
    "#         fr.read()"
   ]
  },
  {
   "cell_type": "code",
   "execution_count": 31,
   "id": "eab0fd30",
   "metadata": {},
   "outputs": [],
   "source": [
    "from nltk.corpus import stopwords\n",
    "from nltk.stem.porter import PorterStemmer\n",
    "\n",
    "stop_words=set(stopwords.words(\"english\"))\n",
    "porter = PorterStemmer()\n",
    "\n",
    "def preprocess(texts):\n",
    "    for n in range(0, len(texts)):\n",
    "        text = texts[n]\n",
    "        text = word_tokenize(text)\n",
    "        text = [word.lower() for word in text]\n",
    "        text = [word for word in text if word not in stop_words]\n",
    "        text = [word for word in text if word.isalpha()]\n",
    "        text = [porter.stem(word) for word in text]\n",
    "        text = \" \".join(text)\n",
    "        texts[n] += text\n",
    "    return texts"
   ]
  },
  {
   "cell_type": "code",
   "execution_count": 27,
   "id": "f9309152",
   "metadata": {},
   "outputs": [
    {
     "data": {
      "text/plain": [
       "str"
      ]
     },
     "execution_count": 27,
     "metadata": {},
     "output_type": "execute_result"
    }
   ],
   "source": [
    "type(first_lyric)"
   ]
  }
 ],
 "metadata": {
  "kernelspec": {
   "display_name": "Python 3 (ipykernel)",
   "language": "python",
   "name": "python3"
  },
  "language_info": {
   "codemirror_mode": {
    "name": "ipython",
    "version": 3
   },
   "file_extension": ".py",
   "mimetype": "text/x-python",
   "name": "python",
   "nbconvert_exporter": "python",
   "pygments_lexer": "ipython3",
   "version": "3.9.12"
  }
 },
 "nbformat": 4,
 "nbformat_minor": 5
}
